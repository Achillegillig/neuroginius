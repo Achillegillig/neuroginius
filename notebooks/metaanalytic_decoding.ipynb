{
 "cells": [
  {
   "cell_type": "code",
   "execution_count": 1,
   "metadata": {},
   "outputs": [
    {
     "ename": "NameError",
     "evalue": "name '_fetch_atlas_m5n33_regions' is not defined",
     "output_type": "error",
     "traceback": [
      "\u001b[0;31m---------------------------------------------------------------------------\u001b[0m",
      "\u001b[0;31mNameError\u001b[0m                                 Traceback (most recent call last)",
      "Cell \u001b[0;32mIn[1], line 2\u001b[0m\n\u001b[1;32m      1\u001b[0m \u001b[38;5;28;01mimport\u001b[39;00m \u001b[38;5;21;01msys\u001b[39;00m\n\u001b[0;32m----> 2\u001b[0m \u001b[38;5;28;01mfrom\u001b[39;00m \u001b[38;5;21;01mneuroginius\u001b[39;00m\u001b[38;5;21;01m.\u001b[39;00m\u001b[38;5;21;01mfunctional_decoding\u001b[39;00m \u001b[38;5;28;01mimport\u001b[39;00m NeurosynthDecoder\n\u001b[1;32m      3\u001b[0m \u001b[38;5;28;01mfrom\u001b[39;00m \u001b[38;5;21;01mneuroginius\u001b[39;00m\u001b[38;5;21;01m.\u001b[39;00m\u001b[38;5;21;01matlas\u001b[39;00m \u001b[38;5;28;01mimport\u001b[39;00m Atlas\n",
      "File \u001b[0;32m~/.conda/envs/dynapred/lib/python3.12/site-packages/neuroginius/functional_decoding/__init__.py:1\u001b[0m\n\u001b[0;32m----> 1\u001b[0m \u001b[38;5;28;01mfrom\u001b[39;00m \u001b[38;5;21;01m.\u001b[39;00m\u001b[38;5;21;01mmeta_analytic_decoding\u001b[39;00m \u001b[38;5;28;01mimport\u001b[39;00m \u001b[38;5;241m*\u001b[39m\n",
      "File \u001b[0;32m~/.conda/envs/dynapred/lib/python3.12/site-packages/neuroginius/functional_decoding/meta_analytic_decoding.py:2\u001b[0m\n\u001b[1;32m      1\u001b[0m \u001b[38;5;28;01mimport\u001b[39;00m \u001b[38;5;21;01mmatplotlib\u001b[39;00m\u001b[38;5;21;01m.\u001b[39;00m\u001b[38;5;21;01mpyplot\u001b[39;00m \u001b[38;5;28;01mas\u001b[39;00m \u001b[38;5;21;01mplt\u001b[39;00m\n\u001b[0;32m----> 2\u001b[0m \u001b[38;5;28;01mfrom\u001b[39;00m \u001b[38;5;21;01mneuroginius\u001b[39;00m\u001b[38;5;21;01m.\u001b[39;00m\u001b[38;5;21;01mparcellate\u001b[39;00m \u001b[38;5;28;01mimport\u001b[39;00m parcellate\n\u001b[1;32m      3\u001b[0m \u001b[38;5;28;01mfrom\u001b[39;00m \u001b[38;5;21;01mneuroginius\u001b[39;00m\u001b[38;5;21;01m.\u001b[39;00m\u001b[38;5;21;01matlas\u001b[39;00m \u001b[38;5;28;01mimport\u001b[39;00m Atlas\n\u001b[1;32m      4\u001b[0m \u001b[38;5;28;01mimport\u001b[39;00m \u001b[38;5;21;01mnumpy\u001b[39;00m \u001b[38;5;28;01mas\u001b[39;00m \u001b[38;5;21;01mnp\u001b[39;00m\n",
      "File \u001b[0;32m~/.conda/envs/dynapred/lib/python3.12/site-packages/neuroginius/parcellate.py:2\u001b[0m\n\u001b[1;32m      1\u001b[0m \u001b[38;5;28;01mfrom\u001b[39;00m \u001b[38;5;21;01mnilearn\u001b[39;00m\u001b[38;5;21;01m.\u001b[39;00m\u001b[38;5;21;01mmaskers\u001b[39;00m \u001b[38;5;28;01mimport\u001b[39;00m NiftiLabelsMasker\n\u001b[0;32m----> 2\u001b[0m \u001b[38;5;28;01mfrom\u001b[39;00m \u001b[38;5;21;01mneuroginius\u001b[39;00m\u001b[38;5;21;01m.\u001b[39;00m\u001b[38;5;21;01matlas\u001b[39;00m \u001b[38;5;28;01mimport\u001b[39;00m Atlas\n\u001b[1;32m      4\u001b[0m \u001b[38;5;28;01mdef\u001b[39;00m \u001b[38;5;21mparcellate\u001b[39m(img, atlas):\n\u001b[1;32m      5\u001b[0m     \u001b[38;5;66;03m#img and atlas can either be a path to a nifti file or a nifti image object\u001b[39;00m\n\u001b[1;32m      7\u001b[0m     \u001b[38;5;28;01mif\u001b[39;00m \u001b[38;5;28misinstance\u001b[39m(atlas, Atlas):\n",
      "File \u001b[0;32m~/.conda/envs/dynapred/lib/python3.12/site-packages/neuroginius/atlas.py:98\u001b[0m\n\u001b[1;32m     13\u001b[0m \u001b[38;5;28;01mimport\u001b[39;00m \u001b[38;5;21;01mos\u001b[39;00m\n\u001b[1;32m     15\u001b[0m \u001b[38;5;66;03m# ROOT_DIR = Path(os.path.dirname(os.path.abspath(__file__))).parent / 'atlases'\u001b[39;00m\n\u001b[1;32m     16\u001b[0m \n\u001b[1;32m     17\u001b[0m \u001b[38;5;66;03m# def _fetch_atlas_m5n33_regions(\u001b[39;00m\n\u001b[0;32m   (...)\u001b[0m\n\u001b[1;32m     86\u001b[0m \u001b[38;5;66;03m#     )\u001b[39;00m\n\u001b[1;32m     87\u001b[0m \u001b[38;5;66;03m#     return atlas_bunch\u001b[39;00m\n\u001b[1;32m     90\u001b[0m atlas_mapping \u001b[38;5;241m=\u001b[39m {\n\u001b[1;32m     91\u001b[0m     \u001b[38;5;124m\"\u001b[39m\u001b[38;5;124mharvard-oxford\u001b[39m\u001b[38;5;124m\"\u001b[39m: \u001b[38;5;28;01mlambda\u001b[39;00m : datasets\u001b[38;5;241m.\u001b[39mfetch_atlas_harvard_oxford(\u001b[38;5;124m\"\u001b[39m\u001b[38;5;124mcort-maxprob-thr25-2mm\u001b[39m\u001b[38;5;124m\"\u001b[39m),\n\u001b[1;32m     92\u001b[0m     \u001b[38;5;124m\"\u001b[39m\u001b[38;5;124mschaefer\u001b[39m\u001b[38;5;124m\"\u001b[39m: \u001b[38;5;28;01mlambda\u001b[39;00m : datasets\u001b[38;5;241m.\u001b[39mfetch_atlas_schaefer_2018(resolution_mm\u001b[38;5;241m=\u001b[39m\u001b[38;5;241m2\u001b[39m),\n\u001b[1;32m     93\u001b[0m     \u001b[38;5;124m\"\u001b[39m\u001b[38;5;124mschaefer200\u001b[39m\u001b[38;5;124m\"\u001b[39m: \u001b[38;5;28;01mlambda\u001b[39;00m : datasets\u001b[38;5;241m.\u001b[39mfetch_atlas_schaefer_2018(n_rois\u001b[38;5;241m=\u001b[39m\u001b[38;5;241m200\u001b[39m, resolution_mm\u001b[38;5;241m=\u001b[39m\u001b[38;5;241m2\u001b[39m),\n\u001b[1;32m     94\u001b[0m     \u001b[38;5;124m\"\u001b[39m\u001b[38;5;124mschaefer100\u001b[39m\u001b[38;5;124m\"\u001b[39m: \u001b[38;5;28;01mlambda\u001b[39;00m : datasets\u001b[38;5;241m.\u001b[39mfetch_atlas_schaefer_2018(n_rois\u001b[38;5;241m=\u001b[39m\u001b[38;5;241m100\u001b[39m, resolution_mm\u001b[38;5;241m=\u001b[39m\u001b[38;5;241m2\u001b[39m),\n\u001b[1;32m     95\u001b[0m     \u001b[38;5;124m\"\u001b[39m\u001b[38;5;124mdifumo\u001b[39m\u001b[38;5;124m\"\u001b[39m: \u001b[38;5;28;01mlambda\u001b[39;00m : datasets\u001b[38;5;241m.\u001b[39mfetch_atlas_difumo(legacy_format\u001b[38;5;241m=\u001b[39m\u001b[38;5;28;01mFalse\u001b[39;00m),\n\u001b[1;32m     96\u001b[0m     \u001b[38;5;124m\"\u001b[39m\u001b[38;5;124msmith\u001b[39m\u001b[38;5;124m\"\u001b[39m: datasets\u001b[38;5;241m.\u001b[39mfetch_atlas_smith_2009,\n\u001b[1;32m     97\u001b[0m     \u001b[38;5;124m\"\u001b[39m\u001b[38;5;124mmsdl\u001b[39m\u001b[38;5;124m\"\u001b[39m: datasets\u001b[38;5;241m.\u001b[39mfetch_atlas_msdl,\n\u001b[0;32m---> 98\u001b[0m     \u001b[38;5;124m\"\u001b[39m\u001b[38;5;124mm5_n33\u001b[39m\u001b[38;5;124m\"\u001b[39m: _fetch_atlas_m5n33_regions,\n\u001b[1;32m     99\u001b[0m     \u001b[38;5;124m\"\u001b[39m\u001b[38;5;124mginna\u001b[39m\u001b[38;5;124m\"\u001b[39m: _fetch_atlas_ginna\n\u001b[1;32m    100\u001b[0m }\n\u001b[1;32m    102\u001b[0m is_soft_mapping \u001b[38;5;241m=\u001b[39m {\n\u001b[1;32m    103\u001b[0m     \u001b[38;5;124m\"\u001b[39m\u001b[38;5;124mschaefer200\u001b[39m\u001b[38;5;124m\"\u001b[39m: \u001b[38;5;28;01mFalse\u001b[39;00m,\n\u001b[1;32m    104\u001b[0m     \u001b[38;5;124m\"\u001b[39m\u001b[38;5;124mharvard-oxford\u001b[39m\u001b[38;5;124m\"\u001b[39m: \u001b[38;5;28;01mFalse\u001b[39;00m,\n\u001b[0;32m   (...)\u001b[0m\n\u001b[1;32m    108\u001b[0m     \u001b[38;5;124m\"\u001b[39m\u001b[38;5;124mginna\u001b[39m\u001b[38;5;124m\"\u001b[39m: \u001b[38;5;28;01mTrue\u001b[39;00m\n\u001b[1;32m    109\u001b[0m }\n\u001b[1;32m    111\u001b[0m \u001b[38;5;28;01mclass\u001b[39;00m \u001b[38;5;21;01mAtlas\u001b[39;00m(Bunch):\n",
      "\u001b[0;31mNameError\u001b[0m: name '_fetch_atlas_m5n33_regions' is not defined"
     ]
    }
   ],
   "source": [
    "import sys\n",
    "from neuroginius.functional_decoding import NeurosynthDecoder\n",
    "from neuroginius.atlas import Atlas"
   ]
  },
  {
   "cell_type": "code",
   "execution_count": null,
   "metadata": {},
   "outputs": [],
   "source": [
    "atlas = Atlas().from_name('m5_n33')"
   ]
  },
  {
   "cell_type": "code",
   "execution_count": null,
   "metadata": {},
   "outputs": [],
   "source": [
    "decoder = NeurosynthDecoder(atlas=atlas, metric='pearsonr')"
   ]
  },
  {
   "cell_type": "code",
   "execution_count": null,
   "metadata": {},
   "outputs": [],
   "source": [
    "maps = ['/homes_unix/agillig/Projects/FabricOfCognition/fabricogcognition_valentina/BCS_repo/Originals_2017_dataset/affective_2017.nii.gz',\n",
    "        '/homes_unix/agillig/Projects/FabricOfCognition/fabricogcognition_valentina/BCS_repo/Originals_2017_dataset/language_2017.nii.gz',\n",
    "        '/homes_unix/agillig/Projects/FabricOfCognition/fabricogcognition_valentina/BCS_repo/Originals_2017_dataset/tom_2017.nii.gz',]"
   ]
  },
  {
   "cell_type": "code",
   "execution_count": null,
   "metadata": {},
   "outputs": [],
   "source": [
    "decoder.decode(maps)"
   ]
  },
  {
   "cell_type": "code",
   "execution_count": null,
   "metadata": {},
   "outputs": [],
   "source": [
    "decoder.decoding"
   ]
  },
  {
   "cell_type": "code",
   "execution_count": null,
   "metadata": {},
   "outputs": [],
   "source": [
    "decoder.plot(row_cluster=False, cmap='viridis')"
   ]
  }
 ],
 "metadata": {
  "kernelspec": {
   "display_name": "Python 3",
   "language": "python",
   "name": "python3"
  },
  "language_info": {
   "codemirror_mode": {
    "name": "ipython",
    "version": 3
   },
   "file_extension": ".py",
   "mimetype": "text/x-python",
   "name": "python",
   "nbconvert_exporter": "python",
   "pygments_lexer": "ipython3",
   "version": "3.12.4"
  }
 },
 "nbformat": 4,
 "nbformat_minor": 2
}
