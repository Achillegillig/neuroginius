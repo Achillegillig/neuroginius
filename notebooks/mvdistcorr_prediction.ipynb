{
 "cells": [
  {
   "cell_type": "code",
   "execution_count": 1,
   "metadata": {},
   "outputs": [
    {
     "name": "stderr",
     "output_type": "stream",
     "text": [
      "/homes_unix/agillig/.conda/envs/dynapred/lib/python3.12/site-packages/tqdm/auto.py:21: TqdmWarning: IProgress not found. Please update jupyter and ipywidgets. See https://ipywidgets.readthedocs.io/en/stable/user_install.html\n",
      "  from .autonotebook import tqdm as notebook_tqdm\n"
     ]
    },
    {
     "data": {
      "text/plain": [
       "<module 'neuroginius.data' from '/homes_unix/agillig/neuroginius/neuroginius/data.py'>"
      ]
     },
     "execution_count": 1,
     "metadata": {},
     "output_type": "execute_result"
    }
   ],
   "source": [
    "import importlib\n",
    "import numpy as np\n",
    "import pandas as pd\n",
    "import os\n",
    "import sys\n",
    "\n",
    "\n",
    "neuroginius_path = '/homes_unix/agillig/neuroginius'\n",
    "sys.path.insert(1, neuroginius_path)\n",
    "\n",
    "import neuroginius\n",
    "\n",
    "importlib.reload(neuroginius)\n",
    "\n",
    "from neuroginius import derivatives as dt\n",
    "importlib.reload(dt)\n",
    "\n",
    "sys.path.insert(1, '/homes_unix/agillig/projects/dynapred/code')\n",
    "import get_share_data as share\n",
    "importlib.reload(share)\n",
    "sys.path.remove('/homes_unix/agillig/projects/dynapred/code')\n",
    "\n",
    "\n",
    "from neuroginius.atlas import Atlas\n",
    "from neuroginius import data\n",
    "importlib.reload(data)"
   ]
  },
  {
   "cell_type": "code",
   "execution_count": 2,
   "metadata": {},
   "outputs": [
    {
     "name": "stdout",
     "output_type": "stream",
     "text": [
      "n subjects (cog + emo): 742\n",
      "n subjects (emo): 1369\n",
      "n subjects in intersection: 742\n",
      "---> all subjects in y are also in y_ger\n"
     ]
    }
   ],
   "source": [
    "y = share.get_share_data(retrieve_timeseries=False)\n",
    "print(f'n subjects (cog + emo): {len(y)}')\n",
    "cog_vars = y.columns[y.columns.str.contains('GER_')].tolist()\n",
    "y_ger = share.get_share_data(cognitive_var=cog_vars, retrieve_timeseries=False)\n",
    "print(f'n subjects (emo): {len(y_ger)}')\n",
    "\n",
    "n_intersection = len(set(y.index) & set(y_ger.index))\n",
    "print(f'n subjects in intersection: {n_intersection}')\n",
    "if n_intersection == len(y):\n",
    "    print('---> all subjects in y are also in y_ger')"
   ]
  },
  {
   "cell_type": "code",
   "execution_count": 3,
   "metadata": {},
   "outputs": [],
   "source": [
    "atlas = Atlas.from_name('schaefer200')\n",
    "\n",
    "rsfiles = pd.read_csv('/homes_unix/agillig/projects/dynapred/processing/MRiShare_gsreg_list.txt', header=None)\n",
    "prefix = 'SHARE'\n",
    "rsfiles.index = rsfiles[0].str.split(prefix, expand=True)[1].str.split('/', expand=True).apply(lambda x: prefix + x[0], axis=1).values\n",
    "\n",
    "extraction_method = 'multivariate'\n",
    "parcellated_ts = dt.ParcellatedTimeseries(atlas,\n",
    "    extraction_method=extraction_method,\n",
    "    derivatives_path = '/projects/resting/ishare_derivatives_ag'\n",
    ")"
   ]
  },
  {
   "cell_type": "code",
   "execution_count": 4,
   "metadata": {},
   "outputs": [],
   "source": [
    "n_subjects = len(rsfiles.values.flatten().tolist())"
   ]
  },
  {
   "cell_type": "code",
   "execution_count": 5,
   "metadata": {},
   "outputs": [],
   "source": [
    "metric = 'mdcor'\n",
    "mdcor = dt.PairwiseInteraction(\n",
    "    metric=metric, \n",
    "    atlas=atlas, \n",
    "    extraction_method=parcellated_ts.extraction_method)\n",
    "\n",
    "mdcor.set_derivatives_path(parcellated_ts.derivatives_path)\n",
    "mdcor.subjects_from_prefix(\"SHARE\")"
   ]
  },
  {
   "cell_type": "code",
   "execution_count": 6,
   "metadata": {},
   "outputs": [],
   "source": [
    "ts_subjects = parcellated_ts.subjects_from_prefix(\"SHARE\", return_values=True)"
   ]
  },
  {
   "cell_type": "code",
   "execution_count": 7,
   "metadata": {},
   "outputs": [],
   "source": [
    "ts = [np.random.random((20, 1049)) for _ in range(100)]"
   ]
  },
  {
   "cell_type": "code",
   "execution_count": 8,
   "metadata": {},
   "outputs": [
    {
     "data": {
      "text/plain": [
       "'schaefer200'"
      ]
     },
     "execution_count": 8,
     "metadata": {},
     "output_type": "execute_result"
    }
   ],
   "source": [
    "atlas.name"
   ]
  },
  {
   "cell_type": "code",
   "execution_count": 9,
   "metadata": {},
   "outputs": [],
   "source": [
    "derivatives_dir = '/projects/resting/ishare_derivatives_ag'"
   ]
  },
  {
   "cell_type": "code",
   "execution_count": 10,
   "metadata": {},
   "outputs": [],
   "source": [
    "def save(X, sub_id):\n",
    "    savename = f'{derivatives_dir}/pairwise_interactions/{atlas.name}/{extraction_method}/{metric}/{sub_id}_{atlas.name}_{extraction_method}_{metric}.csv'\n",
    "    os.makedirs(os.path.dirname(savename), exist_ok=True)\n",
    "    np.savetxt(savename, X, delimiter=',')"
   ]
  },
  {
   "cell_type": "code",
   "execution_count": 11,
   "metadata": {},
   "outputs": [],
   "source": [
    "for id in parcellated_ts.subjects:\n",
    "    if not parcellated_ts.exists(index=id):\n",
    "        print(f\"Missing {id}\")"
   ]
  },
  {
   "cell_type": "code",
   "execution_count": 12,
   "metadata": {},
   "outputs": [
    {
     "data": {
      "text/plain": [
       "['/data/analyses/work_in_progress/repos/rs_processing/gs_regression/_subject_id_SHARE0001/bpEpiStd_gsreg/out_res_gsRegression.nii.gz']"
      ]
     },
     "execution_count": 12,
     "metadata": {},
     "output_type": "execute_result"
    }
   ],
   "source": [
    "rsfiles.loc[rsfiles.index[0]].values.tolist()"
   ]
  },
  {
   "cell_type": "code",
   "execution_count": 13,
   "metadata": {},
   "outputs": [],
   "source": [
    "def process():\n",
    "    results = []\n",
    "    for subid, file in rsfiles.iterrows():\n",
    "        results.append(file.values.tolist())\n",
    "    return results\n",
    "        \n",
    "        \n",
    "\n"
   ]
  },
  {
   "cell_type": "code",
   "execution_count": 14,
   "metadata": {},
   "outputs": [],
   "source": [
    "data = []\n",
    "if parcellated_ts.exists(n_subjects=n_subjects):\n",
    "    for i in range(10):\n",
    "        tmp_data = parcellated_ts.load_individual(i)\n",
    "        data.append(mdcor.fit_transform(tmp_data))\n",
    "\n",
    "data = np.array(data)"
   ]
  },
  {
   "cell_type": "code",
   "execution_count": 15,
   "metadata": {},
   "outputs": [],
   "source": [
    "mdcor.set_derivatives_path('/projects/resting/ishare_derivatives_ag/')"
   ]
  },
  {
   "cell_type": "code",
   "execution_count": 16,
   "metadata": {},
   "outputs": [
    {
     "data": {
      "text/plain": [
       "False"
      ]
     },
     "execution_count": 16,
     "metadata": {},
     "output_type": "execute_result"
    }
   ],
   "source": [
    "mdcor.exists(n_subjects)\n"
   ]
  },
  {
   "cell_type": "code",
   "execution_count": 17,
   "metadata": {},
   "outputs": [],
   "source": [
    "# mdcor.fit_individual(parcellated_ts, 0)"
   ]
  },
  {
   "cell_type": "code",
   "execution_count": 18,
   "metadata": {},
   "outputs": [],
   "source": [
    "#connect to slurm\n",
    "from dask_jobqueue import SLURMCluster\n",
    "from dask.distributed import LocalCluster, Client\n",
    "import os\n",
    "cluster = SLURMCluster(cores=4,\n",
    "                      #  processes=8,\n",
    "                       memory=\"600GB\",\n",
    "                       job_mem='64GB',\n",
    "                      #  account=\"agillig\",\n",
    "                       walltime=\"03:00:00\",\n",
    "                       queue=\"normal\",\n",
    "                       job_extra_directives=[\n",
    "                           \"--partition=normal,highmem\",\n",
    "                      f\"--export=ALL,PYTHONPATH={neuroginius_path}:$PYTHONPATH\"                       \n",
    "                      ]\n",
    "                       )\n",
    "\n",
    "\n",
    "client = cluster.get_client()\n",
    "cluster.scale(jobs=30)"
   ]
  },
  {
   "cell_type": "code",
   "execution_count": 19,
   "metadata": {},
   "outputs": [],
   "source": [
    "# client.shutdown()"
   ]
  },
  {
   "cell_type": "code",
   "execution_count": 20,
   "metadata": {},
   "outputs": [
    {
     "data": {
      "text/plain": [
       "896"
      ]
     },
     "execution_count": 20,
     "metadata": {},
     "output_type": "execute_result"
    }
   ],
   "source": [
    "128 * 7"
   ]
  },
  {
   "cell_type": "code",
   "execution_count": 21,
   "metadata": {},
   "outputs": [
    {
     "name": "stdout",
     "output_type": "stream",
     "text": [
      "http://10.85.1.77:8787/status\n"
     ]
    }
   ],
   "source": [
    "print(client.dashboard_link)"
   ]
  },
  {
   "cell_type": "code",
   "execution_count": 22,
   "metadata": {},
   "outputs": [],
   "source": [
    "from dask import delayed\n",
    "import dask.array as da"
   ]
  },
  {
   "cell_type": "code",
   "execution_count": 25,
   "metadata": {},
   "outputs": [],
   "source": [
    "def load_nii(file):\n",
    "    from nilearn.image import load_img\n",
    "    return load_img(file)\n",
    "\n",
    "def save(X, sub_id):\n",
    "    import os\n",
    "    import numpy as np\n",
    "    savename = f'{derivatives_dir}/pairwise_interactions/{atlas.name}/{extraction_method}/{metric}/{sub_id}_{atlas.name}_{extraction_method}_{metric}.csv'\n",
    "    os.makedirs(os.path.dirname(savename), exist_ok=True)\n",
    "    np.savetxt(savename, X, delimiter=',')"
   ]
  },
  {
   "cell_type": "code",
   "execution_count": 44,
   "metadata": {},
   "outputs": [],
   "source": [
    "img = load_img(atlas.maps)"
   ]
  },
  {
   "cell_type": "code",
   "execution_count": 47,
   "metadata": {},
   "outputs": [
    {
     "data": {
      "text/plain": [
       "3"
      ]
     },
     "execution_count": 47,
     "metadata": {},
     "output_type": "execute_result"
    }
   ],
   "source": [
    "len(img.get_fdata().shape)"
   ]
  },
  {
   "cell_type": "code",
   "execution_count": 28,
   "metadata": {},
   "outputs": [],
   "source": [
    "def process(file):\n",
    "    ld = client.submit(load_nii, file)\n",
    "    return ld\n",
    "\n",
    "res = process(rsfiles.loc[rsfiles.index[0]].values.tolist())"
   ]
  },
  {
   "cell_type": "code",
   "execution_count": 39,
   "metadata": {},
   "outputs": [
    {
     "data": {
      "text/plain": [
       "'cancelled'"
      ]
     },
     "execution_count": 39,
     "metadata": {},
     "output_type": "execute_result"
    }
   ],
   "source": [
    "res.status"
   ]
  },
  {
   "cell_type": "code",
   "execution_count": 35,
   "metadata": {},
   "outputs": [
    {
     "data": {
      "text/plain": [
       "<nibabel.nifti1.Nifti1Image at 0x7ff2face48c0>"
      ]
     },
     "execution_count": 35,
     "metadata": {},
     "output_type": "execute_result"
    }
   ],
   "source": [
    "res.result()"
   ]
  },
  {
   "cell_type": "code",
   "execution_count": 225,
   "metadata": {},
   "outputs": [],
   "source": [
    "def process():\n",
    "    results = []\n",
    "    for subid, file in rsfiles.iterrows():\n",
    "        file = file.values.tolist()[0]\n",
    "        if subid not in y_ger.index:\n",
    "            continue\n",
    "        if mdcor.exists(index=subid):\n",
    "            continue\n",
    "        ts = delayed(parcellated_ts.fit_transform)(file)\n",
    "        conn = delayed(mdcor.fit_transform)(ts)\n",
    "        saved = delayed(save)(conn, subid)\n",
    "        results.append(saved)\n",
    "    return results"
   ]
  },
  {
   "cell_type": "code",
   "execution_count": null,
   "metadata": {},
   "outputs": [],
   "source": []
  },
  {
   "cell_type": "code",
   "execution_count": 226,
   "metadata": {},
   "outputs": [
    {
     "ename": "KeyboardInterrupt",
     "evalue": "",
     "output_type": "error",
     "traceback": [
      "\u001b[0;31m---------------------------------------------------------------------------\u001b[0m",
      "\u001b[0;31mKeyboardInterrupt\u001b[0m                         Traceback (most recent call last)",
      "Cell \u001b[0;32mIn[226], line 1\u001b[0m\n\u001b[0;32m----> 1\u001b[0m results \u001b[38;5;241m=\u001b[39m \u001b[43mda\u001b[49m\u001b[38;5;241;43m.\u001b[39;49m\u001b[43mcompute\u001b[49m\u001b[43m(\u001b[49m\u001b[38;5;241;43m*\u001b[39;49m\u001b[43mprocess\u001b[49m\u001b[43m(\u001b[49m\u001b[43m)\u001b[49m\u001b[43m)\u001b[49m\n",
      "File \u001b[0;32m~/.conda/envs/dynapred/lib/python3.12/site-packages/dask/base.py:660\u001b[0m, in \u001b[0;36mcompute\u001b[0;34m(traverse, optimize_graph, scheduler, get, *args, **kwargs)\u001b[0m\n\u001b[1;32m    657\u001b[0m     postcomputes\u001b[38;5;241m.\u001b[39mappend(x\u001b[38;5;241m.\u001b[39m__dask_postcompute__())\n\u001b[1;32m    659\u001b[0m \u001b[38;5;28;01mwith\u001b[39;00m shorten_traceback():\n\u001b[0;32m--> 660\u001b[0m     results \u001b[38;5;241m=\u001b[39m \u001b[43mschedule\u001b[49m\u001b[43m(\u001b[49m\u001b[43mdsk\u001b[49m\u001b[43m,\u001b[49m\u001b[43m \u001b[49m\u001b[43mkeys\u001b[49m\u001b[43m,\u001b[49m\u001b[43m \u001b[49m\u001b[38;5;241;43m*\u001b[39;49m\u001b[38;5;241;43m*\u001b[39;49m\u001b[43mkwargs\u001b[49m\u001b[43m)\u001b[49m\n\u001b[1;32m    662\u001b[0m \u001b[38;5;28;01mreturn\u001b[39;00m repack([f(r, \u001b[38;5;241m*\u001b[39ma) \u001b[38;5;28;01mfor\u001b[39;00m r, (f, a) \u001b[38;5;129;01min\u001b[39;00m \u001b[38;5;28mzip\u001b[39m(results, postcomputes)])\n",
      "File \u001b[0;32m~/.conda/envs/dynapred/lib/python3.12/threading.py:634\u001b[0m, in \u001b[0;36mEvent.wait\u001b[0;34m(self, timeout)\u001b[0m\n\u001b[1;32m    632\u001b[0m signaled \u001b[38;5;241m=\u001b[39m \u001b[38;5;28mself\u001b[39m\u001b[38;5;241m.\u001b[39m_flag\n\u001b[1;32m    633\u001b[0m \u001b[38;5;28;01mif\u001b[39;00m \u001b[38;5;129;01mnot\u001b[39;00m signaled:\n\u001b[0;32m--> 634\u001b[0m     signaled \u001b[38;5;241m=\u001b[39m \u001b[38;5;28;43mself\u001b[39;49m\u001b[38;5;241;43m.\u001b[39;49m\u001b[43m_cond\u001b[49m\u001b[38;5;241;43m.\u001b[39;49m\u001b[43mwait\u001b[49m\u001b[43m(\u001b[49m\u001b[43mtimeout\u001b[49m\u001b[43m)\u001b[49m\n\u001b[1;32m    635\u001b[0m \u001b[38;5;28;01mreturn\u001b[39;00m signaled\n",
      "File \u001b[0;32m~/.conda/envs/dynapred/lib/python3.12/threading.py:338\u001b[0m, in \u001b[0;36mCondition.wait\u001b[0;34m(self, timeout)\u001b[0m\n\u001b[1;32m    336\u001b[0m \u001b[38;5;28;01melse\u001b[39;00m:\n\u001b[1;32m    337\u001b[0m     \u001b[38;5;28;01mif\u001b[39;00m timeout \u001b[38;5;241m>\u001b[39m \u001b[38;5;241m0\u001b[39m:\n\u001b[0;32m--> 338\u001b[0m         gotit \u001b[38;5;241m=\u001b[39m \u001b[43mwaiter\u001b[49m\u001b[38;5;241;43m.\u001b[39;49m\u001b[43macquire\u001b[49m\u001b[43m(\u001b[49m\u001b[38;5;28;43;01mTrue\u001b[39;49;00m\u001b[43m,\u001b[49m\u001b[43m \u001b[49m\u001b[43mtimeout\u001b[49m\u001b[43m)\u001b[49m\n\u001b[1;32m    339\u001b[0m     \u001b[38;5;28;01melse\u001b[39;00m:\n\u001b[1;32m    340\u001b[0m         gotit \u001b[38;5;241m=\u001b[39m waiter\u001b[38;5;241m.\u001b[39macquire(\u001b[38;5;28;01mFalse\u001b[39;00m)\n",
      "\u001b[0;31mKeyboardInterrupt\u001b[0m: "
     ]
    }
   ],
   "source": [
    "results = da.compute(*process())"
   ]
  },
  {
   "cell_type": "code",
   "execution_count": 39,
   "metadata": {},
   "outputs": [],
   "source": [
    "import dask\n",
    "dask.config.refresh()"
   ]
  },
  {
   "cell_type": "code",
   "execution_count": 12,
   "metadata": {},
   "outputs": [],
   "source": [
    "def vectorize_matrix(matrix):\n",
    "    return matrix[np.triu_indices(matrix.shape[0], k=1)]\n",
    "\n",
    "def save(np_array, path):\n",
    "    np.savetxt(path, np_array)"
   ]
  },
  {
   "cell_type": "code",
   "execution_count": 13,
   "metadata": {},
   "outputs": [],
   "source": [
    "save_dir = f'/projects/resting/ishare_derivatives_ag/pairwise_interactions/{metric}'\n",
    "os.makedirs(save_dir, exist_ok=True)"
   ]
  }
 ],
 "metadata": {
  "kernelspec": {
   "display_name": "dynapred",
   "language": "python",
   "name": "python3"
  },
  "language_info": {
   "codemirror_mode": {
    "name": "ipython",
    "version": 3
   },
   "file_extension": ".py",
   "mimetype": "text/x-python",
   "name": "python",
   "nbconvert_exporter": "python",
   "pygments_lexer": "ipython3",
   "version": "3.12.0"
  }
 },
 "nbformat": 4,
 "nbformat_minor": 2
}
